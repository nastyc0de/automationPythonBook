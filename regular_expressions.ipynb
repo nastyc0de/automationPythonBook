{
 "cells": [
  {
   "cell_type": "markdown",
   "source": [
    "## Expresiones Regulares"
   ],
   "metadata": {}
  },
  {
   "cell_type": "markdown",
   "source": [
    "### Una expresion regular o regex, es un patron que coincidi con un texto. En otras palabras, nos permite definir un string abstracto."
   ],
   "metadata": {}
  },
  {
   "cell_type": "markdown",
   "source": [
    "### Algunos usos de regex son:\r\n",
    "    - Validar datos de entrada.\r\n",
    "    - Analisis de strings\r\n",
    "    - Scrapping, encontrar coincidencias en un texto\r\n",
    "    - Reemplazar textos"
   ],
   "metadata": {}
  },
  {
   "cell_type": "markdown",
   "source": [
    "### El modulo de Python para usar regex es el 're'. La funcion principal es 're.search()', que retorna un objeto match. Con informacion que se solicita en el patron.\r\n",
    "\r\n",
    "### La funcion 're.search' hace coincidir un patron, no importa la posicion en el string, este retorna 'None' si el patron no se encuentra\r\n",
    "\r\n",
    "### Los caracteres especiales usados son:\r\n",
    "    - ^: Busca en el inicio del string.\r\n",
    "    - $: Busca en el fin del string.\r\n",
    "    - \\b: Busca en el inicio o final en una palabra.\r\n",
    "    - \\S: Busca cualquier caracter que no sea un espacio en blanco, incluyendo caracteres como: * o $."
   ],
   "metadata": {}
  },
  {
   "cell_type": "code",
   "execution_count": 1,
   "source": [
    "# Ejemplo\r\n",
    "import re\r\n",
    "re.search(r'LOG$', 'SOME LOG')"
   ],
   "outputs": [
    {
     "output_type": "execute_result",
     "data": {
      "text/plain": [
       "<re.Match object; span=(5, 8), match='LOG'>"
      ]
     },
     "metadata": {},
     "execution_count": 1
    }
   ],
   "metadata": {}
  },
  {
   "cell_type": "code",
   "execution_count": 2,
   "source": [
    "# Hacer coincidir solo el inicio  del string\r\n",
    "re.search(r'^LOG', 'LOGS')\r\n"
   ],
   "outputs": [
    {
     "output_type": "execute_result",
     "data": {
      "text/plain": [
       "<re.Match object; span=(0, 3), match='LOG'>"
      ]
     },
     "metadata": {},
     "execution_count": 2
    }
   ],
   "metadata": {}
  },
  {
   "cell_type": "code",
   "execution_count": 3,
   "source": [
    "# No funciona si lo hacemos de esta manera.\r\n",
    "re.search(r'^LOG', 'SOME LOGS')"
   ],
   "outputs": [],
   "metadata": {}
  },
  {
   "cell_type": "code",
   "execution_count": 4,
   "source": [
    "# Hacer coincidir solo el final del string.\r\n",
    "re.search(r'LOG$', 'SOME LOG')"
   ],
   "outputs": [
    {
     "output_type": "execute_result",
     "data": {
      "text/plain": [
       "<re.Match object; span=(5, 8), match='LOG'>"
      ]
     },
     "metadata": {},
     "execution_count": 4
    }
   ],
   "metadata": {}
  },
  {
   "cell_type": "code",
   "execution_count": 5,
   "source": [
    "#No funciona si lo hacemos de esta manera\r\n",
    "re.search(r'LOG$', 'SOME LOGS')"
   ],
   "outputs": [],
   "metadata": {}
  },
  {
   "cell_type": "code",
   "execution_count": 6,
   "source": [
    "# Hacer coincidir la palabra 'thing' (sin excluir 'things'), pero no 'something' o 'anything'\r\n",
    "STRING = 'something in the things she shows me'\r\n",
    "match = re.search(r'thing', STRING)\r\n",
    "STRING[:match.start()], STRING[match.start():match.end()], STRING[:match.end():]\r\n"
   ],
   "outputs": [
    {
     "output_type": "execute_result",
     "data": {
      "text/plain": [
       "('some', 'thing', 'something')"
      ]
     },
     "metadata": {},
     "execution_count": 6
    }
   ],
   "metadata": {}
  },
  {
   "cell_type": "code",
   "execution_count": 7,
   "source": [
    "# Usando \\b al inicio del patron\r\n",
    "match = re.search(r'\\bthing', STRING)\r\n",
    "STRING[:match.start()], STRING[match.start():match.end()], STRING[match.end():]"
   ],
   "outputs": [
    {
     "output_type": "execute_result",
     "data": {
      "text/plain": [
       "('something in the ', 'thing', 's she shows me')"
      ]
     },
     "metadata": {},
     "execution_count": 7
    }
   ],
   "metadata": {}
  },
  {
   "cell_type": "code",
   "execution_count": 8,
   "source": [
    "# Hacer coincidir solo los numeros y guiones. (Ejemplo: telefonos)\r\n",
    "re.search(r'[0123456789-]+', 'the phone number is 1234-567-890').group()"
   ],
   "outputs": [
    {
     "output_type": "execute_result",
     "data": {
      "text/plain": [
       "'1234-567-890'"
      ]
     },
     "metadata": {},
     "execution_count": 8
    }
   ],
   "metadata": {}
  },
  {
   "cell_type": "markdown",
   "source": [
    "### El patron 'r[01234567890-]+' esta compuesto de 2 partes. El primero este entre los corchetes, y buscan cualquier caracter entre 0 y 9 (cualquier numero) y el '-'. El signo '+' significa que los caracteres pueden encontrarse 1 o mas veces. Este se llama **cuantificador** en regex. Esto hace coincidir cualquier combinacion de numeros y guiones, sin importar que tan largo sea."
   ],
   "metadata": {}
  },
  {
   "cell_type": "code",
   "execution_count": 9,
   "source": [
    "# Hacer coincidir una direccion de email\r\n",
    "re.search(r'\\S+@\\S+', 'my email is email.123@test.com').group()"
   ],
   "outputs": [
    {
     "output_type": "execute_result",
     "data": {
      "text/plain": [
       "'email.123@test.com'"
      ]
     },
     "metadata": {},
     "execution_count": 9
    }
   ],
   "metadata": {}
  },
  {
   "cell_type": "markdown",
   "source": [
    "### Nuevamente usamos en signo '+' para buscar cualquier caracter sea necesario antes y despues del '@'. En este caso, el caracter \\S busca cualquier caracter que no sea un espacio en blanco."
   ],
   "metadata": {}
  },
  {
   "cell_type": "markdown",
   "source": [
    "### La funcion 'group()' retorna una o mas coincidencias que se encuentran en un string."
   ],
   "metadata": {}
  },
  {
   "cell_type": "code",
   "execution_count": 10,
   "source": [
    "# data = 'the phones number: 123-456-789, 234-567-890, 098-765-432 and 987-654-321'\r\n",
    "data = 'phone number: 123-456-789'\r\n",
    "matches = re.search(r'[0123456789-]+', data)\r\n",
    "[int(match) for match in matches.group().split('-')]"
   ],
   "outputs": [
    {
     "output_type": "execute_result",
     "data": {
      "text/plain": [
       "[123, 456, 789]"
      ]
     },
     "metadata": {},
     "execution_count": 10
    }
   ],
   "metadata": {}
  },
  {
   "cell_type": "markdown",
   "source": [
    "# Viendo expresiones regulares a profundidad"
   ],
   "metadata": {}
  },
  {
   "cell_type": "markdown",
   "source": [
    "### Algunos caracteres usados. Son:\r\n",
    "    - \\d: Busca cualquier caracter (0 a 9).\r\n",
    "    - \\s: Busca cualquier caracter que es un espacio en blanco, incluyendo tabulaciones (Es lo contrario a \\S)\r\n",
    "    - \\w: Busca cualquier letra (incluye digitos, pero excluye puntos(.)).\r\n",
    "    - .(punto): Busca cualquier caracter.\r\n",
    "    - \\D: Busca cualquier no digito (no numero)\r\n",
    "    - \\W: Busca cualquier no letra.\r\n",
    "    - \\B: Busca una posicion que no este al inicio o final de una palabra. Por ejemplo, r'thing\\B'\r\n",
    "     seleccionara things y no asi thing"
   ],
   "metadata": {}
  },
  {
   "cell_type": "markdown",
   "source": [
    "### Buscar un patron de numero telefonico. Usando \\d como caracter especial para cualquier digito."
   ],
   "metadata": {}
  },
  {
   "cell_type": "code",
   "execution_count": 11,
   "source": [
    "import re\r\n",
    "\r\n",
    "match = re.search(r'the phone number is ([\\d-]+)', '37: the phone number is 1234-567-890')\r\n",
    "match.group()"
   ],
   "outputs": [
    {
     "output_type": "execute_result",
     "data": {
      "text/plain": [
       "'the phone number is 1234-567-890'"
      ]
     },
     "metadata": {},
     "execution_count": 11
    }
   ],
   "metadata": {}
  },
  {
   "cell_type": "code",
   "execution_count": 12,
   "source": [
    "match.group(1)"
   ],
   "outputs": [
    {
     "output_type": "execute_result",
     "data": {
      "text/plain": [
       "'1234-567-890'"
      ]
     },
     "metadata": {},
     "execution_count": 12
    }
   ],
   "metadata": {}
  },
  {
   "cell_type": "markdown",
   "source": [
    "### Compilar un patron y capturar un patron case-insensitive con una opcion yes|no"
   ],
   "metadata": {}
  },
  {
   "cell_type": "code",
   "execution_count": 13,
   "source": [
    "pattern = re.compile(r'The answer to question (\\w+) is (yes|no)', re.IGNORECASE)"
   ],
   "outputs": [],
   "metadata": {}
  },
  {
   "cell_type": "code",
   "execution_count": 14,
   "source": [
    "pattern.search('Naturally, the answer to question 3b is YES')"
   ],
   "outputs": [
    {
     "output_type": "execute_result",
     "data": {
      "text/plain": [
       "<re.Match object; span=(11, 43), match='the answer to question 3b is YES'>"
      ]
     },
     "metadata": {},
     "execution_count": 14
    }
   ],
   "metadata": {}
  },
  {
   "cell_type": "code",
   "execution_count": 15,
   "source": [
    "pattern.search('Naturally, the answer to question 3b is YES').groups()"
   ],
   "outputs": [
    {
     "output_type": "execute_result",
     "data": {
      "text/plain": [
       "('3b', 'YES')"
      ]
     },
     "metadata": {},
     "execution_count": 15
    }
   ],
   "metadata": {}
  },
  {
   "cell_type": "markdown",
   "source": [
    "### Los patrones tambien pueden ser compilados. Este compila un patron de expresion regular en un objeto de expresion regular, que puede ser usado para las coincidencias usando **'match()', 'search()'**"
   ],
   "metadata": {}
  },
  {
   "cell_type": "markdown",
   "source": [
    "### Registrar todas las ocurrencias de ciudades y abreviaciones de estados en el texto. (Se encuentran separados por un caracter, el nombre de la ciudad siempre empieza en letra mayuscula)"
   ],
   "metadata": {}
  },
  {
   "cell_type": "markdown",
   "source": [
    "### En el siguiente ejercicio se requiere de mas informacion. Esta compuesto de 2 grupos, separados por un caracter. El caracter especial '.(dot)' indica que seleccione todas las coincidencias. En el ejercicio selecciona un punto (.), un espacio en blanco y una coma(,). El segundo grupo es una seleccion sencilla de opciones. en este caso la abreviatura de los estados de EEUU."
   ],
   "metadata": {}
  },
  {
   "cell_type": "markdown",
   "source": [
    "### El primer grupo empieza con letras mauyusculas ([A-Z]) y acepta cualquier combinacion de letras y espacios en blanco ([\\w\\s]+?), pero no acepta signos de puntuacion. Este patron busca coincidencias que estan compuestas por una o mas palabras. El '+?' hace que la coincidencia de letras sea 'non-greedy', haciendo coincidir como pocos caracteres sea posible. Esto evita algunos problemas, como cuando no existe signos de puntuacion.  "
   ],
   "metadata": {}
  },
  {
   "cell_type": "code",
   "execution_count": 16,
   "source": [
    "PATTERN = re.compile(r'([A-Z][\\w\\s]+?).(TX|OR|OH|MI)')"
   ],
   "outputs": [],
   "metadata": {}
  },
  {
   "cell_type": "code",
   "execution_count": 17,
   "source": [
    "text = 'the jackalopes are the team of Odessa,TX while the knights are native of Corvallis OR and the mud hens come from Toledo.OH; the whitecaps have their base in Grand Rapids,MI'\r\n",
    "list(PATTERN.finditer(text))"
   ],
   "outputs": [
    {
     "output_type": "execute_result",
     "data": {
      "text/plain": [
       "[<re.Match object; span=(31, 40), match='Odessa,TX'>,\n",
       " <re.Match object; span=(73, 85), match='Corvallis OR'>,\n",
       " <re.Match object; span=(113, 122), match='Toledo.OH'>,\n",
       " <re.Match object; span=(157, 172), match='Grand Rapids,MI'>]"
      ]
     },
     "metadata": {},
     "execution_count": 17
    }
   ],
   "metadata": {}
  },
  {
   "cell_type": "markdown",
   "source": [
    "### Note que este patron empieza con cualquier letra mayuscula y sigue buscando hasta encontrar un estado, a menos que este separado por un signo de puntuacion."
   ],
   "metadata": {}
  },
  {
   "cell_type": "code",
   "execution_count": 40,
   "source": [
    "re.search(r'([A-Z][\\w\\s]+?).(TX|OR|OH|MI)', 'This is a test, Escanaba MI')"
   ],
   "outputs": [
    {
     "output_type": "execute_result",
     "data": {
      "text/plain": [
       "<re.Match object; span=(16, 27), match='Escanaba MI'>"
      ]
     },
     "metadata": {},
     "execution_count": 40
    }
   ],
   "metadata": {}
  },
  {
   "cell_type": "markdown",
   "source": [
    "### Para definir 'groups', se define poniendo en parentesis, Los 'groups' pueden seleccionarse individualmente. Esto lo hace coincidir bueno para buscar grandes cantidades de datos"
   ],
   "metadata": {}
  },
  {
   "cell_type": "code",
   "execution_count": 32,
   "source": [
    "info = re.search(r'the phone number is ([\\d-]+)', '37: the phone number is 1234-567-890')"
   ],
   "outputs": [],
   "metadata": {}
  },
  {
   "cell_type": "code",
   "execution_count": 33,
   "source": [
    "info.group()"
   ],
   "outputs": [
    {
     "output_type": "execute_result",
     "data": {
      "text/plain": [
       "'the phone number is 1234-567-890'"
      ]
     },
     "metadata": {},
     "execution_count": 33
    }
   ],
   "metadata": {}
  },
  {
   "cell_type": "code",
   "execution_count": 34,
   "source": [
    "info.group(1)"
   ],
   "outputs": [
    {
     "output_type": "execute_result",
     "data": {
      "text/plain": [
       "'1234-567-890'"
      ]
     },
     "metadata": {},
     "execution_count": 34
    }
   ],
   "metadata": {}
  },
  {
   "cell_type": "code",
   "execution_count": 38,
   "source": [
    "re.search(r'[0123456789-]+', '37: the phone number is 1234-567-890')"
   ],
   "outputs": [
    {
     "output_type": "execute_result",
     "data": {
      "text/plain": [
       "<re.Match object; span=(0, 2), match='37'>"
      ]
     },
     "metadata": {},
     "execution_count": 38
    }
   ],
   "metadata": {}
  },
  {
   "cell_type": "code",
   "execution_count": 39,
   "source": [
    "_.group()"
   ],
   "outputs": [
    {
     "output_type": "execute_result",
     "data": {
      "text/plain": [
       "'37'"
      ]
     },
     "metadata": {},
     "execution_count": 39
    }
   ],
   "metadata": {}
  },
  {
   "cell_type": "markdown",
   "source": [
    "## Recuerde que el **'group 0'(.group() o .group(0))'** es siempre toda la coincidencia. El resto de las coincidencias del grupo son ordenados como son encontrados en el texto."
   ],
   "metadata": {}
  },
  {
   "cell_type": "markdown",
   "source": [
    "### A los grupos se les puede asignar nombres. Esto permite que sean mas explicitos, esto se hace con el comando **(?P<groupnam>PATTERN)**. Los grupos pueden referenciarse por el nombre con **.group(groupname)** o usando **.groupdict()**"
   ],
   "metadata": {}
  },
  {
   "cell_type": "code",
   "execution_count": 41,
   "source": [
    "PATTERN = re.compile(r'(?P<city>[A-Z][\\w\\s]+?).(?P<state>TX|OR|OH|MN)')\r\n",
    "match = PATTERN.search(text)\r\n",
    "match.groupdict()"
   ],
   "outputs": [
    {
     "output_type": "execute_result",
     "data": {
      "text/plain": [
       "{'city': 'Odessa', 'state': 'TX'}"
      ]
     },
     "metadata": {},
     "execution_count": 41
    }
   ],
   "metadata": {}
  },
  {
   "cell_type": "code",
   "execution_count": 42,
   "source": [
    "match.group('city')"
   ],
   "outputs": [
    {
     "output_type": "execute_result",
     "data": {
      "text/plain": [
       "'Odessa'"
      ]
     },
     "metadata": {},
     "execution_count": 42
    }
   ],
   "metadata": {}
  },
  {
   "cell_type": "code",
   "execution_count": 43,
   "source": [
    "match.group('state')"
   ],
   "outputs": [
    {
     "output_type": "execute_result",
     "data": {
      "text/plain": [
       "'TX'"
      ]
     },
     "metadata": {},
     "execution_count": 43
    }
   ],
   "metadata": {}
  },
  {
   "cell_type": "code",
   "execution_count": 44,
   "source": [
    "match.group(1), match.group(2)"
   ],
   "outputs": [
    {
     "output_type": "execute_result",
     "data": {
      "text/plain": [
       "('Odessa', 'TX')"
      ]
     },
     "metadata": {},
     "execution_count": 44
    }
   ],
   "metadata": {}
  },
  {
   "cell_type": "code",
   "execution_count": null,
   "source": [],
   "outputs": [],
   "metadata": {}
  }
 ],
 "metadata": {
  "orig_nbformat": 4,
  "language_info": {
   "name": "python",
   "version": "3.9.5",
   "mimetype": "text/x-python",
   "codemirror_mode": {
    "name": "ipython",
    "version": 3
   },
   "pygments_lexer": "ipython3",
   "nbconvert_exporter": "python",
   "file_extension": ".py"
  },
  "kernelspec": {
   "name": "python3",
   "display_name": "Python 3.9.5 64-bit ('env': venv)"
  },
  "interpreter": {
   "hash": "8000959fdb25b2302210644c384d33a4e264964d5ae73da89961ff674e8b1512"
  }
 },
 "nbformat": 4,
 "nbformat_minor": 2
}